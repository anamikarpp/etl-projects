{
 "cells": [
  {
   "cell_type": "markdown",
   "id": "85204b9e-ae9e-41b3-be5c-510f5c034a9f",
   "metadata": {},
   "source": [
    "## Extract data"
   ]
  },
  {
   "cell_type": "code",
   "execution_count": 1,
   "id": "e5a20f45-a5b6-4d33-94de-d154fc82b47c",
   "metadata": {},
   "outputs": [],
   "source": [
    "import pandas as pd"
   ]
  },
  {
   "cell_type": "code",
   "execution_count": 2,
   "id": "ca7281f7-0780-48ac-94fd-42016037156d",
   "metadata": {},
   "outputs": [],
   "source": [
    "url = \"https://raw.githubusercontent.com/datasets/covid-19/main/data/countries-aggregated.csv\"\n",
    "df=pd.read_csv(url)\n",
    "df.to_csv(\"covid_data.csv\",index=False)"
   ]
  },
  {
   "cell_type": "code",
   "execution_count": 3,
   "id": "e2aedf6e-5c07-4782-a345-4e61655696b2",
   "metadata": {},
   "outputs": [
    {
     "data": {
      "text/html": [
       "<div>\n",
       "<style scoped>\n",
       "    .dataframe tbody tr th:only-of-type {\n",
       "        vertical-align: middle;\n",
       "    }\n",
       "\n",
       "    .dataframe tbody tr th {\n",
       "        vertical-align: top;\n",
       "    }\n",
       "\n",
       "    .dataframe thead th {\n",
       "        text-align: right;\n",
       "    }\n",
       "</style>\n",
       "<table border=\"1\" class=\"dataframe\">\n",
       "  <thead>\n",
       "    <tr style=\"text-align: right;\">\n",
       "      <th></th>\n",
       "      <th>Date</th>\n",
       "      <th>Country</th>\n",
       "      <th>Confirmed</th>\n",
       "      <th>Recovered</th>\n",
       "      <th>Deaths</th>\n",
       "    </tr>\n",
       "  </thead>\n",
       "  <tbody>\n",
       "    <tr>\n",
       "      <th>0</th>\n",
       "      <td>2020-01-22</td>\n",
       "      <td>Afghanistan</td>\n",
       "      <td>0</td>\n",
       "      <td>0</td>\n",
       "      <td>0</td>\n",
       "    </tr>\n",
       "    <tr>\n",
       "      <th>1</th>\n",
       "      <td>2020-01-23</td>\n",
       "      <td>Afghanistan</td>\n",
       "      <td>0</td>\n",
       "      <td>0</td>\n",
       "      <td>0</td>\n",
       "    </tr>\n",
       "    <tr>\n",
       "      <th>2</th>\n",
       "      <td>2020-01-24</td>\n",
       "      <td>Afghanistan</td>\n",
       "      <td>0</td>\n",
       "      <td>0</td>\n",
       "      <td>0</td>\n",
       "    </tr>\n",
       "    <tr>\n",
       "      <th>3</th>\n",
       "      <td>2020-01-25</td>\n",
       "      <td>Afghanistan</td>\n",
       "      <td>0</td>\n",
       "      <td>0</td>\n",
       "      <td>0</td>\n",
       "    </tr>\n",
       "    <tr>\n",
       "      <th>4</th>\n",
       "      <td>2020-01-26</td>\n",
       "      <td>Afghanistan</td>\n",
       "      <td>0</td>\n",
       "      <td>0</td>\n",
       "      <td>0</td>\n",
       "    </tr>\n",
       "  </tbody>\n",
       "</table>\n",
       "</div>"
      ],
      "text/plain": [
       "         Date      Country  Confirmed  Recovered  Deaths\n",
       "0  2020-01-22  Afghanistan          0          0       0\n",
       "1  2020-01-23  Afghanistan          0          0       0\n",
       "2  2020-01-24  Afghanistan          0          0       0\n",
       "3  2020-01-25  Afghanistan          0          0       0\n",
       "4  2020-01-26  Afghanistan          0          0       0"
      ]
     },
     "execution_count": 3,
     "metadata": {},
     "output_type": "execute_result"
    }
   ],
   "source": [
    "df.head()"
   ]
  },
  {
   "cell_type": "code",
   "execution_count": 4,
   "id": "b20d975d-fa81-4f37-a6c4-03be77abf351",
   "metadata": {},
   "outputs": [],
   "source": [
    "from pyspark.sql import SparkSession"
   ]
  },
  {
   "cell_type": "code",
   "execution_count": 5,
   "id": "03ce64f4-780c-45fe-9edf-93009ff2b88c",
   "metadata": {},
   "outputs": [],
   "source": [
    "#start sparKsession\n",
    "spark = SparkSession.builder\\\n",
    "        .appName(\"COVID-19 ETL Project\")\\\n",
    "        .config(\"spark.jars\",\"../mysql-connector-j-9.3.0/mysql-connector-j-9.3.0.jar\")\\\n",
    "        .getOrCreate()"
   ]
  },
  {
   "cell_type": "code",
   "execution_count": 6,
   "id": "65f6cea7-f493-46db-82de-77ea106251e4",
   "metadata": {},
   "outputs": [],
   "source": [
    "#Read csv\n",
    "df = spark.read.csv(\"covid_data.csv\",header=True,inferSchema=True)"
   ]
  },
  {
   "cell_type": "code",
   "execution_count": 7,
   "id": "6271f295-3cef-48f5-8cce-8d81de798df4",
   "metadata": {},
   "outputs": [
    {
     "name": "stdout",
     "output_type": "stream",
     "text": [
      "+----------+-----------+---------+---------+------+\n",
      "|      Date|    Country|Confirmed|Recovered|Deaths|\n",
      "+----------+-----------+---------+---------+------+\n",
      "|2020-01-22|Afghanistan|        0|        0|     0|\n",
      "|2020-01-23|Afghanistan|        0|        0|     0|\n",
      "|2020-01-24|Afghanistan|        0|        0|     0|\n",
      "|2020-01-25|Afghanistan|        0|        0|     0|\n",
      "|2020-01-26|Afghanistan|        0|        0|     0|\n",
      "+----------+-----------+---------+---------+------+\n",
      "only showing top 5 rows\n",
      "\n"
     ]
    }
   ],
   "source": [
    "#show sample data\n",
    "df.show(5)"
   ]
  },
  {
   "cell_type": "markdown",
   "id": "12318858-dd05-4c07-ba40-9367c752f808",
   "metadata": {},
   "source": [
    "## Transform data"
   ]
  },
  {
   "cell_type": "code",
   "execution_count": 8,
   "id": "87d65f6b-6840-454c-aabd-5e52aabb78b2",
   "metadata": {},
   "outputs": [
    {
     "name": "stdout",
     "output_type": "stream",
     "text": [
      "+----------+-------+---------+---------+------+------------+\n",
      "|      Date|Country|Confirmed|Recovered|Deaths|Active_Cases|\n",
      "+----------+-------+---------+---------+------+------------+\n",
      "|2020-01-22|  India|        0|        0|     0|           0|\n",
      "|2020-01-23|  India|        0|        0|     0|           0|\n",
      "|2020-01-24|  India|        0|        0|     0|           0|\n",
      "|2020-01-25|  India|        0|        0|     0|           0|\n",
      "|2020-01-26|  India|        0|        0|     0|           0|\n",
      "|2020-01-27|  India|        0|        0|     0|           0|\n",
      "|2020-01-28|  India|        0|        0|     0|           0|\n",
      "|2020-01-29|  India|        0|        0|     0|           0|\n",
      "|2020-01-30|  India|        1|        0|     0|           1|\n",
      "|2020-01-31|  India|        1|        0|     0|           1|\n",
      "+----------+-------+---------+---------+------+------------+\n",
      "only showing top 10 rows\n",
      "\n"
     ]
    }
   ],
   "source": [
    "from pyspark.sql.functions import col,to_date\n",
    "\n",
    "# Convert Date column to DateType\n",
    "df=df.withColumn(\"Date\",to_date(col(\"Date\"),\"yyyy-MM-dd\"))\n",
    "\n",
    "# Add Active Cases column\n",
    "df=df.withColumn(\"Active_Cases\",col(\"Confirmed\")-(col(\"Recovered\")+col(\"Deaths\")))\n",
    "\n",
    "# Filter for India and US\n",
    "df_filtered = df.filter(col(\"Country\").isin(\"India\",\"US\"))\n",
    "\n",
    "df_filtered.show(10)\n"
   ]
  },
  {
   "cell_type": "markdown",
   "id": "4e220d59-68e7-4fae-b9aa-754ba27425e4",
   "metadata": {},
   "source": [
    "## Load data"
   ]
  },
  {
   "cell_type": "code",
   "execution_count": 9,
   "id": "407b74ae-1aaa-42dc-aecf-f912f6f1df80",
   "metadata": {},
   "outputs": [],
   "source": [
    "from dotenv import load_dotenv\n",
    "import os\n",
    "\n",
    "load_dotenv()\n",
    "\n",
    "jdbc_url=\"jdbc:mysql://localhost:3306/covid_data\"\n",
    "table_name=\"country_covid\"\n",
    "username=os.getenv(\"MYSQL_USERNAME\")\n",
    "password=os.getenv(\"MYSQL_PASSWORD\")\n",
    "\n",
    "#Write DataFrame to MySQL table\n",
    "df_filtered.write\\\n",
    "    .format(\"jdbc\")\\\n",
    "    .option(\"url\",jdbc_url)\\\n",
    "    .option(\"driver\",\"com.mysql.cj.jdbc.Driver\")\\\n",
    "    .option(\"dbtable\",table_name)\\\n",
    "    .option(\"user\",username)\\\n",
    "    .option(\"password\",password)\\\n",
    "    .mode(\"append\")\\\n",
    "    .save()"
   ]
  },
  {
   "cell_type": "code",
   "execution_count": 10,
   "id": "d5e10154-aeeb-47e8-8bbc-7d57b12604cc",
   "metadata": {},
   "outputs": [],
   "source": [
    "df_check=spark.read\\\n",
    "    .format(\"jdbc\")\\\n",
    "    .option(\"url\",jdbc_url)\\\n",
    "    .option(\"driver\",\"com.mysql.cj.jdbc.Driver\")\\\n",
    "    .option(\"dbtable\",table_name)\\\n",
    "    .option(\"user\",username)\\\n",
    "    .option(\"password\",password)\\\n",
    "    .load()"
   ]
  },
  {
   "cell_type": "code",
   "execution_count": 11,
   "id": "cd1afc82-f7e3-4abf-86a4-cb14c591059c",
   "metadata": {},
   "outputs": [
    {
     "name": "stdout",
     "output_type": "stream",
     "text": [
      "+----------+-------+---------+---------+------+------------+\n",
      "|      date|country|confirmed|recovered|deaths|active_cases|\n",
      "+----------+-------+---------+---------+------+------------+\n",
      "|2020-01-22|  India|        0|        0|     0|           0|\n",
      "|2020-01-22|     US|        1|        0|     0|           1|\n",
      "|2020-01-23|  India|        0|        0|     0|           0|\n",
      "|2020-01-23|     US|        1|        0|     0|           1|\n",
      "|2020-01-24|  India|        0|        0|     0|           0|\n",
      "|2020-01-24|     US|        2|        0|     0|           2|\n",
      "|2020-01-25|  India|        0|        0|     0|           0|\n",
      "|2020-01-25|     US|        2|        0|     0|           2|\n",
      "|2020-01-26|     US|        5|        0|     0|           5|\n",
      "|2020-01-26|  India|        0|        0|     0|           0|\n",
      "|2020-01-27|     US|        5|        0|     0|           5|\n",
      "|2020-01-27|  India|        0|        0|     0|           0|\n",
      "|2020-01-28|  India|        0|        0|     0|           0|\n",
      "|2020-01-28|     US|        5|        0|     0|           5|\n",
      "|2020-01-29|     US|        6|        0|     0|           6|\n",
      "|2020-01-29|  India|        0|        0|     0|           0|\n",
      "|2020-01-30|  India|        1|        0|     0|           1|\n",
      "|2020-01-30|     US|        6|        0|     0|           6|\n",
      "|2020-01-31|     US|        8|        0|     0|           8|\n",
      "|2020-01-31|  India|        1|        0|     0|           1|\n",
      "+----------+-------+---------+---------+------+------------+\n",
      "only showing top 20 rows\n",
      "\n"
     ]
    }
   ],
   "source": [
    "df_check.show()"
   ]
  },
  {
   "cell_type": "code",
   "execution_count": null,
   "id": "95434165-c3ed-402b-a26d-388335a11ac8",
   "metadata": {},
   "outputs": [],
   "source": []
  }
 ],
 "metadata": {
  "kernelspec": {
   "display_name": "Python 3 (ipykernel)",
   "language": "python",
   "name": "python3"
  },
  "language_info": {
   "codemirror_mode": {
    "name": "ipython",
    "version": 3
   },
   "file_extension": ".py",
   "mimetype": "text/x-python",
   "name": "python",
   "nbconvert_exporter": "python",
   "pygments_lexer": "ipython3",
   "version": "3.13.5"
  }
 },
 "nbformat": 4,
 "nbformat_minor": 5
}
